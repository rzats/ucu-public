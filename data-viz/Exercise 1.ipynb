{
 "cells": [
  {
   "cell_type": "code",
   "execution_count": 6,
   "metadata": {},
   "outputs": [],
   "source": [
    "import numpy as np\n",
    "import pandas as pd\n",
    "import plotly.express as px"
   ]
  },
  {
   "cell_type": "code",
   "execution_count": 7,
   "metadata": {},
   "outputs": [
    {
     "data": {
      "text/html": [
       "<div>\n",
       "<style scoped>\n",
       "    .dataframe tbody tr th:only-of-type {\n",
       "        vertical-align: middle;\n",
       "    }\n",
       "\n",
       "    .dataframe tbody tr th {\n",
       "        vertical-align: top;\n",
       "    }\n",
       "\n",
       "    .dataframe thead th {\n",
       "        text-align: right;\n",
       "    }\n",
       "</style>\n",
       "<table border=\"1\" class=\"dataframe\">\n",
       "  <thead>\n",
       "    <tr style=\"text-align: right;\">\n",
       "      <th></th>\n",
       "      <th>country</th>\n",
       "      <th>continent</th>\n",
       "      <th>year</th>\n",
       "      <th>gdpPerCap</th>\n",
       "      <th>lifeExp</th>\n",
       "      <th>pop</th>\n",
       "    </tr>\n",
       "  </thead>\n",
       "  <tbody>\n",
       "    <tr>\n",
       "      <th>0</th>\n",
       "      <td>Qatar</td>\n",
       "      <td>Asia</td>\n",
       "      <td>2017</td>\n",
       "      <td>124609.304140</td>\n",
       "      <td>79.981000</td>\n",
       "      <td>2724724</td>\n",
       "    </tr>\n",
       "    <tr>\n",
       "      <th>1</th>\n",
       "      <td>Luxembourg</td>\n",
       "      <td>Europe</td>\n",
       "      <td>2017</td>\n",
       "      <td>107640.559218</td>\n",
       "      <td>82.685366</td>\n",
       "      <td>596336</td>\n",
       "    </tr>\n",
       "    <tr>\n",
       "      <th>2</th>\n",
       "      <td>Singapore</td>\n",
       "      <td>Asia</td>\n",
       "      <td>2017</td>\n",
       "      <td>96552.602608</td>\n",
       "      <td>82.895122</td>\n",
       "      <td>5612253</td>\n",
       "    </tr>\n",
       "    <tr>\n",
       "      <th>3</th>\n",
       "      <td>Brunei</td>\n",
       "      <td>Asia</td>\n",
       "      <td>2017</td>\n",
       "      <td>79789.605085</td>\n",
       "      <td>75.585000</td>\n",
       "      <td>424473</td>\n",
       "    </tr>\n",
       "    <tr>\n",
       "      <th>4</th>\n",
       "      <td>Ireland</td>\n",
       "      <td>Europe</td>\n",
       "      <td>2017</td>\n",
       "      <td>77596.355053</td>\n",
       "      <td>81.956098</td>\n",
       "      <td>4807388</td>\n",
       "    </tr>\n",
       "  </tbody>\n",
       "</table>\n",
       "</div>"
      ],
      "text/plain": [
       "      country continent  year      gdpPerCap    lifeExp      pop\n",
       "0       Qatar      Asia  2017  124609.304140  79.981000  2724724\n",
       "1  Luxembourg    Europe  2017  107640.559218  82.685366   596336\n",
       "2   Singapore      Asia  2017   96552.602608  82.895122  5612253\n",
       "3      Brunei      Asia  2017   79789.605085  75.585000   424473\n",
       "4     Ireland    Europe  2017   77596.355053  81.956098  4807388"
      ]
     },
     "execution_count": 7,
     "metadata": {},
     "output_type": "execute_result"
    }
   ],
   "source": [
    "wb = pd.read_csv('wbdata.csv', delimiter=',')\n",
    "wb.head()"
   ]
  },
  {
   "cell_type": "code",
   "execution_count": 24,
   "metadata": {},
   "outputs": [
    {
     "data": {
      "application/vnd.plotly.v1+json": {
       "config": {
        "plotlyServerURL": "https://plot.ly"
       },
       "data": [
        {
         "hoverlabel": {
          "namelength": 0
         },
         "hovertemplate": "<b>%{hovertext}</b><br><br>Continent=Asia<br>Life expectancy=%{x}<br>GDP per capita=%{y}",
         "hovertext": [
          "Qatar",
          "Singapore",
          "Brunei",
          "United Arab Emirates",
          "Kuwait",
          "Saudi Arabia",
          "Australia",
          "Bahrain",
          "Japan",
          "Oman",
          "New Zealand",
          "Israel",
          "South Korea",
          "Malaysia",
          "Kazakhstan",
          "Iran",
          "Turkmenistan",
          "Thailand",
          "Iraq",
          "China",
          "Maldives",
          "Sri Lanka",
          "Lebanon",
          "Mongolia",
          "Indonesia",
          "Fiji",
          "Bhutan",
          "Jordan",
          "Philippines",
          "Timor-Leste",
          "India",
          "Lao",
          "Vietnam",
          "Samoa",
          "Uzbekistan",
          "Tonga",
          "Myanmar",
          "Pakistan",
          "Papua New Guinea",
          "Cambodia",
          "Bangladesh",
          "Kyrgyz Republic",
          "Micronesia, Fed. Sts.",
          "Tajikistan",
          "Vanuatu",
          "Nepal",
          "Yemen",
          "Solomon Islands",
          "Kiribati",
          "Afghanistan"
         ],
         "legendgroup": "Continent=Asia",
         "marker": {
          "color": "#636efa",
          "symbol": "circle"
         },
         "mode": "markers",
         "name": "Continent=Asia",
         "showlegend": true,
         "type": "scatter",
         "x": [
          79.98100000000002,
          82.89512195121951,
          75.585,
          77.64699999999998,
          75.311,
          74.874,
          82.4975609756098,
          77.032,
          84.099756097561,
          77.393,
          81.65853658536591,
          82.60243902439029,
          82.62682926829271,
          75.828,
          72.95,
          76.271,
          67.956,
          76.683,
          70.294,
          76.47,
          78.325,
          76.648,
          78.833,
          69.509,
          71.282,
          67.252,
          71.12899999999998,
          74.292,
          70.952,
          69.007,
          69.165,
          67.277,
          75.241,
          73.046,
          71.388,
          70.70100000000002,
          66.558,
          66.947,
          64.01,
          69.289,
          72.05199999999998,
          71.2,
          67.618,
          70.64699999999998,
          70.172,
          70.169,
          66.086,
          72.645,
          67.851,
          64.13
         ],
         "xaxis": "x",
         "y": [
          124609.304140088,
          96552.6026075455,
          79789.60508529481,
          73355.8769793479,
          72621.6260603286,
          53693.364236490095,
          49653.7158885249,
          47660.4799076737,
          41958.9621557727,
          41068.336814276096,
          40438.5709468742,
          38867.7615971076,
          38824.1153902612,
          30004.078626204,
          26490.84377438,
          21011.288308854,
          18032.2219588979,
          17917.2068895954,
          17415.4693927853,
          16782.2077583531,
          14668.6930327615,
          12878.5886712171,
          12813.869552599399,
          12787.284256081799,
          12279.1832757753,
          10318.9586799074,
          10173.0510685791,
          9129.93211751891,
          8340.33133072608,
          7416.22335499345,
          7168.992550744,
          6939.5550687146215,
          6857.98404387187,
          6677.68551022861,
          6644.5688858410995,
          6321.60693306938,
          6172.39264948407,
          5249.2063652526,
          4269.43124398009,
          4019.6799851104493,
          3998.419423551489,
          3733.60613756865,
          3504.3966506056604,
          3216.58070235526,
          3110.31028343763,
          2866.54201625742,
          2645.30838302614,
          2339.38066750728,
          2227.92099492537,
          1934.6367541203501
         ],
         "yaxis": "y"
        },
        {
         "hoverlabel": {
          "namelength": 0
         },
         "hovertemplate": "<b>%{hovertext}</b><br><br>Continent=Europe<br>Life expectancy=%{x}<br>GDP per capita=%{y}",
         "hovertext": [
          "Luxembourg",
          "Ireland",
          "Switzerland",
          "Norway",
          "Iceland",
          "Netherlands",
          "Denmark",
          "Austria",
          "Germany",
          "Sweden",
          "Belgium",
          "Finland",
          "United Kingdom",
          "France",
          "Malta",
          "Italy",
          "Spain",
          "Czech Republic",
          "Cyprus",
          "Slovenia",
          "Estonia",
          "Lithuania",
          "Portugal",
          "Slovak Republic",
          "Poland",
          "Hungary",
          "Greece",
          "Latvia",
          "Turkey",
          "Romania",
          "Croatia",
          "Russia",
          "Bulgaria",
          "Montenegro",
          "Belarus",
          "Azerbaijan",
          "Serbia",
          "Bosnia and Herzegovina",
          "Albania",
          "Georgia",
          "Armenia",
          "Ukraine",
          "Moldova"
         ],
         "legendgroup": "Continent=Europe",
         "marker": {
          "color": "#EF553B",
          "symbol": "circle"
         },
         "mode": "markers",
         "name": "Continent=Europe",
         "showlegend": true,
         "type": "scatter",
         "x": [
          82.68536585365851,
          81.95609756097559,
          83.60243902439029,
          82.509756097561,
          82.2048780487805,
          81.5609756097561,
          81.0048780487805,
          81.6414634146342,
          80.990243902439,
          82.3073170731707,
          81.4390243902439,
          81.4292682926829,
          81.1560975609756,
          82.5243902439025,
          82.45365853658541,
          83.24390243902441,
          83.32926829268291,
          79.4756097560976,
          80.672,
          81.1756097560976,
          77.6414634146342,
          74.67073170731709,
          81.12439024390241,
          77.16585365853659,
          77.85121951219509,
          76.0634146341464,
          81.3878048780488,
          74.6804878048781,
          77.161,
          75.30975609756099,
          77.8268292682927,
          72.11902439024391,
          74.8121951219512,
          76.667,
          74.12926829268291,
          72.693,
          76.0878048780488,
          77.128,
          78.333,
          73.414,
          74.797,
          71.7809756097561,
          71.717
         ],
         "xaxis": "x",
         "y": [
          107640.559218408,
          77596.3550528709,
          66299.62501109889,
          62182.8421398992,
          55322.0901345058,
          54503.0819277108,
          54356.4510191378,
          53879.297854516786,
          52574.2604824888,
          51404.7853914838,
          49411.8690997742,
          46348.958976902,
          44896.264584310586,
          44255.94164010231,
          41548.7032203094,
          40981.2816111757,
          39037.3783388467,
          38019.5805142033,
          36155.4807539388,
          36153.3831240136,
          33447.8277198239,
          33252.8418829826,
          32554.2976837599,
          32371.2229547652,
          29930.991776801602,
          28798.6425572425,
          28579.7945258539,
          28362.1354256146,
          27878.6092367084,
          26595.5868048015,
          26295.6003270488,
          25766.9288144165,
          20948.1942754245,
          19355.0198351076,
          18915.9398914361,
          17525.2796310656,
          16433.4497517736,
          13735.0785041602,
          12930.1372840019,
          10674.175802685699,
          9620.818491000358,
          8693.69364884734,
          6858.89202760189
         ],
         "yaxis": "y"
        },
        {
         "hoverlabel": {
          "namelength": 0
         },
         "hovertemplate": "<b>%{hovertext}</b><br><br>Continent=Americas<br>Life expectancy=%{x}<br>GDP per capita=%{y}",
         "hovertext": [
          "United States",
          "Canada",
          "Bahamas",
          "Trinidad and Tobago",
          "Antigua and Barbuda",
          "Panama",
          "Chile",
          "Uruguay",
          "Argentina",
          "Mexico",
          "Barbados",
          "Costa Rica",
          "Dominican Republic",
          "Brazil",
          "Suriname",
          "Grenada",
          "Colombia",
          "Peru",
          "St. Lucia",
          "Paraguay",
          "St. Vincent and the Grenadines",
          "Ecuador",
          "Jamaica",
          "Belize",
          "Guatemala",
          "Guyana",
          "El Salvador",
          "Bolivia",
          "Nicaragua",
          "Honduras",
          "Haiti"
         ],
         "legendgroup": "Continent=Americas",
         "marker": {
          "color": "#00cc96",
          "symbol": "circle"
         },
         "mode": "markers",
         "name": "Continent=Americas",
         "showlegend": true,
         "type": "scatter",
         "x": [
          78.5390243902439,
          82.2489756097561,
          73.554,
          73.245,
          76.752,
          78.149,
          79.90899999999998,
          77.632,
          76.372,
          74.947,
          78.98100000000002,
          79.914,
          73.689,
          75.456,
          71.46300000000002,
          72.388,
          76.925,
          76.286,
          75.907,
          73.992,
          72.3,
          76.584,
          74.267,
          74.365,
          73.81,
          69.624,
          72.872,
          70.945,
          74.068,
          74.898,
          63.29
         ],
         "xaxis": "x",
         "y": [
          59927.92983395349,
          46723.3177643637,
          31581.104389648797,
          31428.7976775167,
          25145.5412294362,
          24472.009849744503,
          24248.8607595513,
          22728.134750687597,
          20843.1550677175,
          19432.2141906251,
          18526.008560408,
          16976.1874153378,
          16451.5400448466,
          15662.247017596299,
          15002.419861673101,
          14739.065754668702,
          14507.261250854599,
          13772.2901725032,
          13569.3057084931,
          12971.6838450747,
          11776.6715734858,
          11501.010292442199,
          8970.780291138659,
          8500.444799660809,
          8166.85775480185,
          8140.415340194771,
          7972.768589865042,
          7480.077140575579,
          5687.18163082839,
          4916.72379248824,
          1818.60656533786
         ],
         "yaxis": "y"
        },
        {
         "hoverlabel": {
          "namelength": 0
         },
         "hovertemplate": "<b>%{hovertext}</b><br><br>Continent=Africa<br>Life expectancy=%{x}<br>GDP per capita=%{y}",
         "hovertext": [
          "Seychelles",
          "Equatorial Guinea",
          "Mauritius",
          "Libya",
          "Botswana",
          "Gabon",
          "Algeria",
          "Tunisia",
          "Egypt",
          "Namibia",
          "Morocco",
          "Angola",
          "Nigeria",
          "Congo, Rep.",
          "Sudan",
          "Ghana",
          "Zambia",
          "Mauritania",
          "Cote d'Ivoire",
          "Cameroon",
          "Senegal",
          "Sao Tome and Principe",
          "Kenya",
          "Lesotho",
          "Tanzania",
          "Zimbabwe",
          "Comoros",
          "Guinea",
          "Benin",
          "Mali",
          "Rwanda",
          "Uganda",
          "Chad",
          "Ethiopia",
          "Burkina Faso",
          "Guinea-Bissau",
          "Togo",
          "Gambia",
          "Madagascar",
          "Sierra Leone",
          "Mozambique",
          "Liberia",
          "Malawi",
          "Niger",
          "Congo, Dem. Rep.",
          "Central African Republic",
          "Burundi"
         ],
         "legendgroup": "Continent=Africa",
         "marker": {
          "color": "#ab63fa",
          "symbol": "circle"
         },
         "mode": "markers",
         "name": "Continent=Africa",
         "showlegend": true,
         "type": "scatter",
         "x": [
          74.3,
          58.06100000000001,
          74.51463414634149,
          72.52,
          68.812,
          65.839,
          76.499,
          76.31,
          71.656,
          63.021,
          76.218,
          60.379,
          53.95,
          63.95399999999999,
          64.881,
          63.463,
          63.043,
          64.464,
          57.017,
          58.511,
          67.38,
          69.933,
          65.90899999999999,
          52.947,
          64.479,
          60.812,
          63.912,
          60.706,
          61.174,
          58.452,
          68.34100000000001,
          62.51600000000001,
          53.712,
          65.872,
          60.768,
          57.673,
          60.489,
          61.44,
          66.311,
          53.895,
          59.309,
          63.295,
          63.279,
          61.599,
          60.026,
          52.24,
          60.898
         ],
         "xaxis": "x",
         "y": [
          29062.2628539554,
          24532.9520019804,
          22355.190523948706,
          19056.8042971544,
          17784.855810529498,
          17762.408644601102,
          15266.4852082981,
          12047.051134045802,
          11742.0500882009,
          11104.419376271899,
          8261.06085184946,
          6650.584939847779,
          5887.5730776004,
          5614.398973966208,
          4880.2615167413205,
          4457.3558457773,
          4090.12004042731,
          4066.6706384247295,
          3921.7133363581897,
          3644.80109612329,
          3556.1377583473604,
          3312.72796857403,
          3258.15449926677,
          3131.00373026564,
          3090.49437114677,
          2825.72512228756,
          2751.08790965604,
          2435.2184751916197,
          2276.59572978031,
          2221.75788575194,
          2082.2936354878,
          1945.35860419614,
          1929.4727515883496,
          1897.24907750157,
          1866.1706199357104,
          1734.71490884792,
          1682.7492021670498,
          1612.1395585064001,
          1560.4023148833096,
          1544.42928960789,
          1294.74827318321,
          1293.41593414343,
          1269.64459550158,
          1012.85919631307,
          888.6772799659718,
          829.346498086113,
          737.97858286726
         ],
         "yaxis": "y"
        }
       ],
       "layout": {
        "height": 600,
        "legend": {
         "tracegroupgap": 0
        },
        "template": {
         "data": {
          "bar": [
           {
            "error_x": {
             "color": "#2a3f5f"
            },
            "error_y": {
             "color": "#2a3f5f"
            },
            "marker": {
             "line": {
              "color": "#E5ECF6",
              "width": 0.5
             }
            },
            "type": "bar"
           }
          ],
          "barpolar": [
           {
            "marker": {
             "line": {
              "color": "#E5ECF6",
              "width": 0.5
             }
            },
            "type": "barpolar"
           }
          ],
          "carpet": [
           {
            "aaxis": {
             "endlinecolor": "#2a3f5f",
             "gridcolor": "white",
             "linecolor": "white",
             "minorgridcolor": "white",
             "startlinecolor": "#2a3f5f"
            },
            "baxis": {
             "endlinecolor": "#2a3f5f",
             "gridcolor": "white",
             "linecolor": "white",
             "minorgridcolor": "white",
             "startlinecolor": "#2a3f5f"
            },
            "type": "carpet"
           }
          ],
          "choropleth": [
           {
            "colorbar": {
             "outlinewidth": 0,
             "ticks": ""
            },
            "type": "choropleth"
           }
          ],
          "contour": [
           {
            "colorbar": {
             "outlinewidth": 0,
             "ticks": ""
            },
            "colorscale": [
             [
              0,
              "#0d0887"
             ],
             [
              0.1111111111111111,
              "#46039f"
             ],
             [
              0.2222222222222222,
              "#7201a8"
             ],
             [
              0.3333333333333333,
              "#9c179e"
             ],
             [
              0.4444444444444444,
              "#bd3786"
             ],
             [
              0.5555555555555556,
              "#d8576b"
             ],
             [
              0.6666666666666666,
              "#ed7953"
             ],
             [
              0.7777777777777778,
              "#fb9f3a"
             ],
             [
              0.8888888888888888,
              "#fdca26"
             ],
             [
              1,
              "#f0f921"
             ]
            ],
            "type": "contour"
           }
          ],
          "contourcarpet": [
           {
            "colorbar": {
             "outlinewidth": 0,
             "ticks": ""
            },
            "type": "contourcarpet"
           }
          ],
          "heatmap": [
           {
            "colorbar": {
             "outlinewidth": 0,
             "ticks": ""
            },
            "colorscale": [
             [
              0,
              "#0d0887"
             ],
             [
              0.1111111111111111,
              "#46039f"
             ],
             [
              0.2222222222222222,
              "#7201a8"
             ],
             [
              0.3333333333333333,
              "#9c179e"
             ],
             [
              0.4444444444444444,
              "#bd3786"
             ],
             [
              0.5555555555555556,
              "#d8576b"
             ],
             [
              0.6666666666666666,
              "#ed7953"
             ],
             [
              0.7777777777777778,
              "#fb9f3a"
             ],
             [
              0.8888888888888888,
              "#fdca26"
             ],
             [
              1,
              "#f0f921"
             ]
            ],
            "type": "heatmap"
           }
          ],
          "heatmapgl": [
           {
            "colorbar": {
             "outlinewidth": 0,
             "ticks": ""
            },
            "colorscale": [
             [
              0,
              "#0d0887"
             ],
             [
              0.1111111111111111,
              "#46039f"
             ],
             [
              0.2222222222222222,
              "#7201a8"
             ],
             [
              0.3333333333333333,
              "#9c179e"
             ],
             [
              0.4444444444444444,
              "#bd3786"
             ],
             [
              0.5555555555555556,
              "#d8576b"
             ],
             [
              0.6666666666666666,
              "#ed7953"
             ],
             [
              0.7777777777777778,
              "#fb9f3a"
             ],
             [
              0.8888888888888888,
              "#fdca26"
             ],
             [
              1,
              "#f0f921"
             ]
            ],
            "type": "heatmapgl"
           }
          ],
          "histogram": [
           {
            "marker": {
             "colorbar": {
              "outlinewidth": 0,
              "ticks": ""
             }
            },
            "type": "histogram"
           }
          ],
          "histogram2d": [
           {
            "colorbar": {
             "outlinewidth": 0,
             "ticks": ""
            },
            "colorscale": [
             [
              0,
              "#0d0887"
             ],
             [
              0.1111111111111111,
              "#46039f"
             ],
             [
              0.2222222222222222,
              "#7201a8"
             ],
             [
              0.3333333333333333,
              "#9c179e"
             ],
             [
              0.4444444444444444,
              "#bd3786"
             ],
             [
              0.5555555555555556,
              "#d8576b"
             ],
             [
              0.6666666666666666,
              "#ed7953"
             ],
             [
              0.7777777777777778,
              "#fb9f3a"
             ],
             [
              0.8888888888888888,
              "#fdca26"
             ],
             [
              1,
              "#f0f921"
             ]
            ],
            "type": "histogram2d"
           }
          ],
          "histogram2dcontour": [
           {
            "colorbar": {
             "outlinewidth": 0,
             "ticks": ""
            },
            "colorscale": [
             [
              0,
              "#0d0887"
             ],
             [
              0.1111111111111111,
              "#46039f"
             ],
             [
              0.2222222222222222,
              "#7201a8"
             ],
             [
              0.3333333333333333,
              "#9c179e"
             ],
             [
              0.4444444444444444,
              "#bd3786"
             ],
             [
              0.5555555555555556,
              "#d8576b"
             ],
             [
              0.6666666666666666,
              "#ed7953"
             ],
             [
              0.7777777777777778,
              "#fb9f3a"
             ],
             [
              0.8888888888888888,
              "#fdca26"
             ],
             [
              1,
              "#f0f921"
             ]
            ],
            "type": "histogram2dcontour"
           }
          ],
          "mesh3d": [
           {
            "colorbar": {
             "outlinewidth": 0,
             "ticks": ""
            },
            "type": "mesh3d"
           }
          ],
          "parcoords": [
           {
            "line": {
             "colorbar": {
              "outlinewidth": 0,
              "ticks": ""
             }
            },
            "type": "parcoords"
           }
          ],
          "scatter": [
           {
            "marker": {
             "colorbar": {
              "outlinewidth": 0,
              "ticks": ""
             }
            },
            "type": "scatter"
           }
          ],
          "scatter3d": [
           {
            "line": {
             "colorbar": {
              "outlinewidth": 0,
              "ticks": ""
             }
            },
            "marker": {
             "colorbar": {
              "outlinewidth": 0,
              "ticks": ""
             }
            },
            "type": "scatter3d"
           }
          ],
          "scattercarpet": [
           {
            "marker": {
             "colorbar": {
              "outlinewidth": 0,
              "ticks": ""
             }
            },
            "type": "scattercarpet"
           }
          ],
          "scattergeo": [
           {
            "marker": {
             "colorbar": {
              "outlinewidth": 0,
              "ticks": ""
             }
            },
            "type": "scattergeo"
           }
          ],
          "scattergl": [
           {
            "marker": {
             "colorbar": {
              "outlinewidth": 0,
              "ticks": ""
             }
            },
            "type": "scattergl"
           }
          ],
          "scattermapbox": [
           {
            "marker": {
             "colorbar": {
              "outlinewidth": 0,
              "ticks": ""
             }
            },
            "type": "scattermapbox"
           }
          ],
          "scatterpolar": [
           {
            "marker": {
             "colorbar": {
              "outlinewidth": 0,
              "ticks": ""
             }
            },
            "type": "scatterpolar"
           }
          ],
          "scatterpolargl": [
           {
            "marker": {
             "colorbar": {
              "outlinewidth": 0,
              "ticks": ""
             }
            },
            "type": "scatterpolargl"
           }
          ],
          "scatterternary": [
           {
            "marker": {
             "colorbar": {
              "outlinewidth": 0,
              "ticks": ""
             }
            },
            "type": "scatterternary"
           }
          ],
          "surface": [
           {
            "colorbar": {
             "outlinewidth": 0,
             "ticks": ""
            },
            "colorscale": [
             [
              0,
              "#0d0887"
             ],
             [
              0.1111111111111111,
              "#46039f"
             ],
             [
              0.2222222222222222,
              "#7201a8"
             ],
             [
              0.3333333333333333,
              "#9c179e"
             ],
             [
              0.4444444444444444,
              "#bd3786"
             ],
             [
              0.5555555555555556,
              "#d8576b"
             ],
             [
              0.6666666666666666,
              "#ed7953"
             ],
             [
              0.7777777777777778,
              "#fb9f3a"
             ],
             [
              0.8888888888888888,
              "#fdca26"
             ],
             [
              1,
              "#f0f921"
             ]
            ],
            "type": "surface"
           }
          ],
          "table": [
           {
            "cells": {
             "fill": {
              "color": "#EBF0F8"
             },
             "line": {
              "color": "white"
             }
            },
            "header": {
             "fill": {
              "color": "#C8D4E3"
             },
             "line": {
              "color": "white"
             }
            },
            "type": "table"
           }
          ]
         },
         "layout": {
          "annotationdefaults": {
           "arrowcolor": "#2a3f5f",
           "arrowhead": 0,
           "arrowwidth": 1
          },
          "colorscale": {
           "diverging": [
            [
             0,
             "#8e0152"
            ],
            [
             0.1,
             "#c51b7d"
            ],
            [
             0.2,
             "#de77ae"
            ],
            [
             0.3,
             "#f1b6da"
            ],
            [
             0.4,
             "#fde0ef"
            ],
            [
             0.5,
             "#f7f7f7"
            ],
            [
             0.6,
             "#e6f5d0"
            ],
            [
             0.7,
             "#b8e186"
            ],
            [
             0.8,
             "#7fbc41"
            ],
            [
             0.9,
             "#4d9221"
            ],
            [
             1,
             "#276419"
            ]
           ],
           "sequential": [
            [
             0,
             "#0d0887"
            ],
            [
             0.1111111111111111,
             "#46039f"
            ],
            [
             0.2222222222222222,
             "#7201a8"
            ],
            [
             0.3333333333333333,
             "#9c179e"
            ],
            [
             0.4444444444444444,
             "#bd3786"
            ],
            [
             0.5555555555555556,
             "#d8576b"
            ],
            [
             0.6666666666666666,
             "#ed7953"
            ],
            [
             0.7777777777777778,
             "#fb9f3a"
            ],
            [
             0.8888888888888888,
             "#fdca26"
            ],
            [
             1,
             "#f0f921"
            ]
           ],
           "sequentialminus": [
            [
             0,
             "#0d0887"
            ],
            [
             0.1111111111111111,
             "#46039f"
            ],
            [
             0.2222222222222222,
             "#7201a8"
            ],
            [
             0.3333333333333333,
             "#9c179e"
            ],
            [
             0.4444444444444444,
             "#bd3786"
            ],
            [
             0.5555555555555556,
             "#d8576b"
            ],
            [
             0.6666666666666666,
             "#ed7953"
            ],
            [
             0.7777777777777778,
             "#fb9f3a"
            ],
            [
             0.8888888888888888,
             "#fdca26"
            ],
            [
             1,
             "#f0f921"
            ]
           ]
          },
          "colorway": [
           "#636efa",
           "#EF553B",
           "#00cc96",
           "#ab63fa",
           "#FFA15A",
           "#19d3f3",
           "#FF6692",
           "#B6E880",
           "#FF97FF",
           "#FECB52"
          ],
          "font": {
           "color": "#2a3f5f"
          },
          "geo": {
           "bgcolor": "white",
           "lakecolor": "white",
           "landcolor": "#E5ECF6",
           "showlakes": true,
           "showland": true,
           "subunitcolor": "white"
          },
          "hoverlabel": {
           "align": "left"
          },
          "hovermode": "closest",
          "mapbox": {
           "style": "light"
          },
          "paper_bgcolor": "white",
          "plot_bgcolor": "#E5ECF6",
          "polar": {
           "angularaxis": {
            "gridcolor": "white",
            "linecolor": "white",
            "ticks": ""
           },
           "bgcolor": "#E5ECF6",
           "radialaxis": {
            "gridcolor": "white",
            "linecolor": "white",
            "ticks": ""
           }
          },
          "scene": {
           "xaxis": {
            "backgroundcolor": "#E5ECF6",
            "gridcolor": "white",
            "gridwidth": 2,
            "linecolor": "white",
            "showbackground": true,
            "ticks": "",
            "zerolinecolor": "white"
           },
           "yaxis": {
            "backgroundcolor": "#E5ECF6",
            "gridcolor": "white",
            "gridwidth": 2,
            "linecolor": "white",
            "showbackground": true,
            "ticks": "",
            "zerolinecolor": "white"
           },
           "zaxis": {
            "backgroundcolor": "#E5ECF6",
            "gridcolor": "white",
            "gridwidth": 2,
            "linecolor": "white",
            "showbackground": true,
            "ticks": "",
            "zerolinecolor": "white"
           }
          },
          "shapedefaults": {
           "line": {
            "color": "#2a3f5f"
           }
          },
          "ternary": {
           "aaxis": {
            "gridcolor": "white",
            "linecolor": "white",
            "ticks": ""
           },
           "baxis": {
            "gridcolor": "white",
            "linecolor": "white",
            "ticks": ""
           },
           "bgcolor": "#E5ECF6",
           "caxis": {
            "gridcolor": "white",
            "linecolor": "white",
            "ticks": ""
           }
          },
          "title": {
           "x": 0.05
          },
          "xaxis": {
           "automargin": true,
           "gridcolor": "white",
           "linecolor": "white",
           "ticks": "",
           "zerolinecolor": "white",
           "zerolinewidth": 2
          },
          "yaxis": {
           "automargin": true,
           "gridcolor": "white",
           "linecolor": "white",
           "ticks": "",
           "zerolinecolor": "white",
           "zerolinewidth": 2
          }
         }
        },
        "title": {
         "text": "Life expectancy vs. GDP per capita"
        },
        "xaxis": {
         "anchor": "y",
         "domain": [
          0,
          0.98
         ],
         "title": {
          "text": "Life expectancy"
         }
        },
        "yaxis": {
         "anchor": "x",
         "domain": [
          0,
          1
         ],
         "title": {
          "text": "GDP per capita"
         }
        }
       }
      },
      "text/html": [
       "<div>\n",
       "        \n",
       "        \n",
       "            <div id=\"77edd859-fc3f-4b10-a670-fc2897a2eba2\" class=\"plotly-graph-div\" style=\"height:600px; width:100%;\"></div>\n",
       "            <script type=\"text/javascript\">\n",
       "                require([\"plotly\"], function(Plotly) {\n",
       "                    window.PLOTLYENV=window.PLOTLYENV || {};\n",
       "                    \n",
       "                if (document.getElementById(\"77edd859-fc3f-4b10-a670-fc2897a2eba2\")) {\n",
       "                    Plotly.newPlot(\n",
       "                        '77edd859-fc3f-4b10-a670-fc2897a2eba2',\n",
       "                        [{\"hoverlabel\": {\"namelength\": 0}, \"hovertemplate\": \"<b>%{hovertext}</b><br><br>Continent=Asia<br>Life expectancy=%{x}<br>GDP per capita=%{y}\", \"hovertext\": [\"Qatar\", \"Singapore\", \"Brunei\", \"United Arab Emirates\", \"Kuwait\", \"Saudi Arabia\", \"Australia\", \"Bahrain\", \"Japan\", \"Oman\", \"New Zealand\", \"Israel\", \"South Korea\", \"Malaysia\", \"Kazakhstan\", \"Iran\", \"Turkmenistan\", \"Thailand\", \"Iraq\", \"China\", \"Maldives\", \"Sri Lanka\", \"Lebanon\", \"Mongolia\", \"Indonesia\", \"Fiji\", \"Bhutan\", \"Jordan\", \"Philippines\", \"Timor-Leste\", \"India\", \"Lao\", \"Vietnam\", \"Samoa\", \"Uzbekistan\", \"Tonga\", \"Myanmar\", \"Pakistan\", \"Papua New Guinea\", \"Cambodia\", \"Bangladesh\", \"Kyrgyz Republic\", \"Micronesia, Fed. Sts.\", \"Tajikistan\", \"Vanuatu\", \"Nepal\", \"Yemen\", \"Solomon Islands\", \"Kiribati\", \"Afghanistan\"], \"legendgroup\": \"Continent=Asia\", \"marker\": {\"color\": \"#636efa\", \"symbol\": \"circle\"}, \"mode\": \"markers\", \"name\": \"Continent=Asia\", \"showlegend\": true, \"type\": \"scatter\", \"x\": [79.98100000000002, 82.89512195121951, 75.585, 77.64699999999998, 75.311, 74.874, 82.4975609756098, 77.032, 84.099756097561, 77.393, 81.65853658536591, 82.60243902439029, 82.62682926829271, 75.828, 72.95, 76.271, 67.956, 76.683, 70.294, 76.47, 78.325, 76.648, 78.833, 69.509, 71.282, 67.252, 71.12899999999998, 74.292, 70.952, 69.007, 69.165, 67.277, 75.241, 73.046, 71.388, 70.70100000000002, 66.558, 66.947, 64.01, 69.289, 72.05199999999998, 71.2, 67.618, 70.64699999999998, 70.172, 70.169, 66.086, 72.645, 67.851, 64.13], \"xaxis\": \"x\", \"y\": [124609.304140088, 96552.6026075455, 79789.60508529481, 73355.8769793479, 72621.6260603286, 53693.364236490095, 49653.7158885249, 47660.4799076737, 41958.9621557727, 41068.336814276096, 40438.5709468742, 38867.7615971076, 38824.1153902612, 30004.078626204, 26490.84377438, 21011.288308854, 18032.2219588979, 17917.2068895954, 17415.4693927853, 16782.2077583531, 14668.6930327615, 12878.5886712171, 12813.869552599399, 12787.284256081799, 12279.1832757753, 10318.9586799074, 10173.0510685791, 9129.93211751891, 8340.33133072608, 7416.22335499345, 7168.992550744, 6939.5550687146215, 6857.98404387187, 6677.68551022861, 6644.5688858410995, 6321.60693306938, 6172.39264948407, 5249.2063652526, 4269.43124398009, 4019.6799851104493, 3998.419423551489, 3733.60613756865, 3504.3966506056604, 3216.58070235526, 3110.31028343763, 2866.54201625742, 2645.30838302614, 2339.38066750728, 2227.92099492537, 1934.6367541203501], \"yaxis\": \"y\"}, {\"hoverlabel\": {\"namelength\": 0}, \"hovertemplate\": \"<b>%{hovertext}</b><br><br>Continent=Europe<br>Life expectancy=%{x}<br>GDP per capita=%{y}\", \"hovertext\": [\"Luxembourg\", \"Ireland\", \"Switzerland\", \"Norway\", \"Iceland\", \"Netherlands\", \"Denmark\", \"Austria\", \"Germany\", \"Sweden\", \"Belgium\", \"Finland\", \"United Kingdom\", \"France\", \"Malta\", \"Italy\", \"Spain\", \"Czech Republic\", \"Cyprus\", \"Slovenia\", \"Estonia\", \"Lithuania\", \"Portugal\", \"Slovak Republic\", \"Poland\", \"Hungary\", \"Greece\", \"Latvia\", \"Turkey\", \"Romania\", \"Croatia\", \"Russia\", \"Bulgaria\", \"Montenegro\", \"Belarus\", \"Azerbaijan\", \"Serbia\", \"Bosnia and Herzegovina\", \"Albania\", \"Georgia\", \"Armenia\", \"Ukraine\", \"Moldova\"], \"legendgroup\": \"Continent=Europe\", \"marker\": {\"color\": \"#EF553B\", \"symbol\": \"circle\"}, \"mode\": \"markers\", \"name\": \"Continent=Europe\", \"showlegend\": true, \"type\": \"scatter\", \"x\": [82.68536585365851, 81.95609756097559, 83.60243902439029, 82.509756097561, 82.2048780487805, 81.5609756097561, 81.0048780487805, 81.6414634146342, 80.990243902439, 82.3073170731707, 81.4390243902439, 81.4292682926829, 81.1560975609756, 82.5243902439025, 82.45365853658541, 83.24390243902441, 83.32926829268291, 79.4756097560976, 80.672, 81.1756097560976, 77.6414634146342, 74.67073170731709, 81.12439024390241, 77.16585365853659, 77.85121951219509, 76.0634146341464, 81.3878048780488, 74.6804878048781, 77.161, 75.30975609756099, 77.8268292682927, 72.11902439024391, 74.8121951219512, 76.667, 74.12926829268291, 72.693, 76.0878048780488, 77.128, 78.333, 73.414, 74.797, 71.7809756097561, 71.717], \"xaxis\": \"x\", \"y\": [107640.559218408, 77596.3550528709, 66299.62501109889, 62182.8421398992, 55322.0901345058, 54503.0819277108, 54356.4510191378, 53879.297854516786, 52574.2604824888, 51404.7853914838, 49411.8690997742, 46348.958976902, 44896.264584310586, 44255.94164010231, 41548.7032203094, 40981.2816111757, 39037.3783388467, 38019.5805142033, 36155.4807539388, 36153.3831240136, 33447.8277198239, 33252.8418829826, 32554.2976837599, 32371.2229547652, 29930.991776801602, 28798.6425572425, 28579.7945258539, 28362.1354256146, 27878.6092367084, 26595.5868048015, 26295.6003270488, 25766.9288144165, 20948.1942754245, 19355.0198351076, 18915.9398914361, 17525.2796310656, 16433.4497517736, 13735.0785041602, 12930.1372840019, 10674.175802685699, 9620.818491000358, 8693.69364884734, 6858.89202760189], \"yaxis\": \"y\"}, {\"hoverlabel\": {\"namelength\": 0}, \"hovertemplate\": \"<b>%{hovertext}</b><br><br>Continent=Americas<br>Life expectancy=%{x}<br>GDP per capita=%{y}\", \"hovertext\": [\"United States\", \"Canada\", \"Bahamas\", \"Trinidad and Tobago\", \"Antigua and Barbuda\", \"Panama\", \"Chile\", \"Uruguay\", \"Argentina\", \"Mexico\", \"Barbados\", \"Costa Rica\", \"Dominican Republic\", \"Brazil\", \"Suriname\", \"Grenada\", \"Colombia\", \"Peru\", \"St. Lucia\", \"Paraguay\", \"St. Vincent and the Grenadines\", \"Ecuador\", \"Jamaica\", \"Belize\", \"Guatemala\", \"Guyana\", \"El Salvador\", \"Bolivia\", \"Nicaragua\", \"Honduras\", \"Haiti\"], \"legendgroup\": \"Continent=Americas\", \"marker\": {\"color\": \"#00cc96\", \"symbol\": \"circle\"}, \"mode\": \"markers\", \"name\": \"Continent=Americas\", \"showlegend\": true, \"type\": \"scatter\", \"x\": [78.5390243902439, 82.2489756097561, 73.554, 73.245, 76.752, 78.149, 79.90899999999998, 77.632, 76.372, 74.947, 78.98100000000002, 79.914, 73.689, 75.456, 71.46300000000002, 72.388, 76.925, 76.286, 75.907, 73.992, 72.3, 76.584, 74.267, 74.365, 73.81, 69.624, 72.872, 70.945, 74.068, 74.898, 63.29], \"xaxis\": \"x\", \"y\": [59927.92983395349, 46723.3177643637, 31581.104389648797, 31428.7976775167, 25145.5412294362, 24472.009849744503, 24248.8607595513, 22728.134750687597, 20843.1550677175, 19432.2141906251, 18526.008560408, 16976.1874153378, 16451.5400448466, 15662.247017596299, 15002.419861673101, 14739.065754668702, 14507.261250854599, 13772.2901725032, 13569.3057084931, 12971.6838450747, 11776.6715734858, 11501.010292442199, 8970.780291138659, 8500.444799660809, 8166.85775480185, 8140.415340194771, 7972.768589865042, 7480.077140575579, 5687.18163082839, 4916.72379248824, 1818.60656533786], \"yaxis\": \"y\"}, {\"hoverlabel\": {\"namelength\": 0}, \"hovertemplate\": \"<b>%{hovertext}</b><br><br>Continent=Africa<br>Life expectancy=%{x}<br>GDP per capita=%{y}\", \"hovertext\": [\"Seychelles\", \"Equatorial Guinea\", \"Mauritius\", \"Libya\", \"Botswana\", \"Gabon\", \"Algeria\", \"Tunisia\", \"Egypt\", \"Namibia\", \"Morocco\", \"Angola\", \"Nigeria\", \"Congo, Rep.\", \"Sudan\", \"Ghana\", \"Zambia\", \"Mauritania\", \"Cote d'Ivoire\", \"Cameroon\", \"Senegal\", \"Sao Tome and Principe\", \"Kenya\", \"Lesotho\", \"Tanzania\", \"Zimbabwe\", \"Comoros\", \"Guinea\", \"Benin\", \"Mali\", \"Rwanda\", \"Uganda\", \"Chad\", \"Ethiopia\", \"Burkina Faso\", \"Guinea-Bissau\", \"Togo\", \"Gambia\", \"Madagascar\", \"Sierra Leone\", \"Mozambique\", \"Liberia\", \"Malawi\", \"Niger\", \"Congo, Dem. Rep.\", \"Central African Republic\", \"Burundi\"], \"legendgroup\": \"Continent=Africa\", \"marker\": {\"color\": \"#ab63fa\", \"symbol\": \"circle\"}, \"mode\": \"markers\", \"name\": \"Continent=Africa\", \"showlegend\": true, \"type\": \"scatter\", \"x\": [74.3, 58.06100000000001, 74.51463414634149, 72.52, 68.812, 65.839, 76.499, 76.31, 71.656, 63.021, 76.218, 60.379, 53.95, 63.95399999999999, 64.881, 63.463, 63.043, 64.464, 57.017, 58.511, 67.38, 69.933, 65.90899999999999, 52.947, 64.479, 60.812, 63.912, 60.706, 61.174, 58.452, 68.34100000000001, 62.51600000000001, 53.712, 65.872, 60.768, 57.673, 60.489, 61.44, 66.311, 53.895, 59.309, 63.295, 63.279, 61.599, 60.026, 52.24, 60.898], \"xaxis\": \"x\", \"y\": [29062.2628539554, 24532.9520019804, 22355.190523948706, 19056.8042971544, 17784.855810529498, 17762.408644601102, 15266.4852082981, 12047.051134045802, 11742.0500882009, 11104.419376271899, 8261.06085184946, 6650.584939847779, 5887.5730776004, 5614.398973966208, 4880.2615167413205, 4457.3558457773, 4090.12004042731, 4066.6706384247295, 3921.7133363581897, 3644.80109612329, 3556.1377583473604, 3312.72796857403, 3258.15449926677, 3131.00373026564, 3090.49437114677, 2825.72512228756, 2751.08790965604, 2435.2184751916197, 2276.59572978031, 2221.75788575194, 2082.2936354878, 1945.35860419614, 1929.4727515883496, 1897.24907750157, 1866.1706199357104, 1734.71490884792, 1682.7492021670498, 1612.1395585064001, 1560.4023148833096, 1544.42928960789, 1294.74827318321, 1293.41593414343, 1269.64459550158, 1012.85919631307, 888.6772799659718, 829.346498086113, 737.97858286726], \"yaxis\": \"y\"}],\n",
       "                        {\"height\": 600, \"legend\": {\"tracegroupgap\": 0}, \"template\": {\"data\": {\"bar\": [{\"error_x\": {\"color\": \"#2a3f5f\"}, \"error_y\": {\"color\": \"#2a3f5f\"}, \"marker\": {\"line\": {\"color\": \"#E5ECF6\", \"width\": 0.5}}, \"type\": \"bar\"}], \"barpolar\": [{\"marker\": {\"line\": {\"color\": \"#E5ECF6\", \"width\": 0.5}}, \"type\": \"barpolar\"}], \"carpet\": [{\"aaxis\": {\"endlinecolor\": \"#2a3f5f\", \"gridcolor\": \"white\", \"linecolor\": \"white\", \"minorgridcolor\": \"white\", \"startlinecolor\": \"#2a3f5f\"}, \"baxis\": {\"endlinecolor\": \"#2a3f5f\", \"gridcolor\": \"white\", \"linecolor\": \"white\", \"minorgridcolor\": \"white\", \"startlinecolor\": \"#2a3f5f\"}, \"type\": \"carpet\"}], \"choropleth\": [{\"colorbar\": {\"outlinewidth\": 0, \"ticks\": \"\"}, \"type\": \"choropleth\"}], \"contour\": [{\"colorbar\": {\"outlinewidth\": 0, \"ticks\": \"\"}, \"colorscale\": [[0.0, \"#0d0887\"], [0.1111111111111111, \"#46039f\"], [0.2222222222222222, \"#7201a8\"], [0.3333333333333333, \"#9c179e\"], [0.4444444444444444, \"#bd3786\"], [0.5555555555555556, \"#d8576b\"], [0.6666666666666666, \"#ed7953\"], [0.7777777777777778, \"#fb9f3a\"], [0.8888888888888888, \"#fdca26\"], [1.0, \"#f0f921\"]], \"type\": \"contour\"}], \"contourcarpet\": [{\"colorbar\": {\"outlinewidth\": 0, \"ticks\": \"\"}, \"type\": \"contourcarpet\"}], \"heatmap\": [{\"colorbar\": {\"outlinewidth\": 0, \"ticks\": \"\"}, \"colorscale\": [[0.0, \"#0d0887\"], [0.1111111111111111, \"#46039f\"], [0.2222222222222222, \"#7201a8\"], [0.3333333333333333, \"#9c179e\"], [0.4444444444444444, \"#bd3786\"], [0.5555555555555556, \"#d8576b\"], [0.6666666666666666, \"#ed7953\"], [0.7777777777777778, \"#fb9f3a\"], [0.8888888888888888, \"#fdca26\"], [1.0, \"#f0f921\"]], \"type\": \"heatmap\"}], \"heatmapgl\": [{\"colorbar\": {\"outlinewidth\": 0, \"ticks\": \"\"}, \"colorscale\": [[0.0, \"#0d0887\"], [0.1111111111111111, \"#46039f\"], [0.2222222222222222, \"#7201a8\"], [0.3333333333333333, \"#9c179e\"], [0.4444444444444444, \"#bd3786\"], [0.5555555555555556, \"#d8576b\"], [0.6666666666666666, \"#ed7953\"], [0.7777777777777778, \"#fb9f3a\"], [0.8888888888888888, \"#fdca26\"], [1.0, \"#f0f921\"]], \"type\": \"heatmapgl\"}], \"histogram\": [{\"marker\": {\"colorbar\": {\"outlinewidth\": 0, \"ticks\": \"\"}}, \"type\": \"histogram\"}], \"histogram2d\": [{\"colorbar\": {\"outlinewidth\": 0, \"ticks\": \"\"}, \"colorscale\": [[0.0, \"#0d0887\"], [0.1111111111111111, \"#46039f\"], [0.2222222222222222, \"#7201a8\"], [0.3333333333333333, \"#9c179e\"], [0.4444444444444444, \"#bd3786\"], [0.5555555555555556, \"#d8576b\"], [0.6666666666666666, \"#ed7953\"], [0.7777777777777778, \"#fb9f3a\"], [0.8888888888888888, \"#fdca26\"], [1.0, \"#f0f921\"]], \"type\": \"histogram2d\"}], \"histogram2dcontour\": [{\"colorbar\": {\"outlinewidth\": 0, \"ticks\": \"\"}, \"colorscale\": [[0.0, \"#0d0887\"], [0.1111111111111111, \"#46039f\"], [0.2222222222222222, \"#7201a8\"], [0.3333333333333333, \"#9c179e\"], [0.4444444444444444, \"#bd3786\"], [0.5555555555555556, \"#d8576b\"], [0.6666666666666666, \"#ed7953\"], [0.7777777777777778, \"#fb9f3a\"], [0.8888888888888888, \"#fdca26\"], [1.0, \"#f0f921\"]], \"type\": \"histogram2dcontour\"}], \"mesh3d\": [{\"colorbar\": {\"outlinewidth\": 0, \"ticks\": \"\"}, \"type\": \"mesh3d\"}], \"parcoords\": [{\"line\": {\"colorbar\": {\"outlinewidth\": 0, \"ticks\": \"\"}}, \"type\": \"parcoords\"}], \"scatter\": [{\"marker\": {\"colorbar\": {\"outlinewidth\": 0, \"ticks\": \"\"}}, \"type\": \"scatter\"}], \"scatter3d\": [{\"line\": {\"colorbar\": {\"outlinewidth\": 0, \"ticks\": \"\"}}, \"marker\": {\"colorbar\": {\"outlinewidth\": 0, \"ticks\": \"\"}}, \"type\": \"scatter3d\"}], \"scattercarpet\": [{\"marker\": {\"colorbar\": {\"outlinewidth\": 0, \"ticks\": \"\"}}, \"type\": \"scattercarpet\"}], \"scattergeo\": [{\"marker\": {\"colorbar\": {\"outlinewidth\": 0, \"ticks\": \"\"}}, \"type\": \"scattergeo\"}], \"scattergl\": [{\"marker\": {\"colorbar\": {\"outlinewidth\": 0, \"ticks\": \"\"}}, \"type\": \"scattergl\"}], \"scattermapbox\": [{\"marker\": {\"colorbar\": {\"outlinewidth\": 0, \"ticks\": \"\"}}, \"type\": \"scattermapbox\"}], \"scatterpolar\": [{\"marker\": {\"colorbar\": {\"outlinewidth\": 0, \"ticks\": \"\"}}, \"type\": \"scatterpolar\"}], \"scatterpolargl\": [{\"marker\": {\"colorbar\": {\"outlinewidth\": 0, \"ticks\": \"\"}}, \"type\": \"scatterpolargl\"}], \"scatterternary\": [{\"marker\": {\"colorbar\": {\"outlinewidth\": 0, \"ticks\": \"\"}}, \"type\": \"scatterternary\"}], \"surface\": [{\"colorbar\": {\"outlinewidth\": 0, \"ticks\": \"\"}, \"colorscale\": [[0.0, \"#0d0887\"], [0.1111111111111111, \"#46039f\"], [0.2222222222222222, \"#7201a8\"], [0.3333333333333333, \"#9c179e\"], [0.4444444444444444, \"#bd3786\"], [0.5555555555555556, \"#d8576b\"], [0.6666666666666666, \"#ed7953\"], [0.7777777777777778, \"#fb9f3a\"], [0.8888888888888888, \"#fdca26\"], [1.0, \"#f0f921\"]], \"type\": \"surface\"}], \"table\": [{\"cells\": {\"fill\": {\"color\": \"#EBF0F8\"}, \"line\": {\"color\": \"white\"}}, \"header\": {\"fill\": {\"color\": \"#C8D4E3\"}, \"line\": {\"color\": \"white\"}}, \"type\": \"table\"}]}, \"layout\": {\"annotationdefaults\": {\"arrowcolor\": \"#2a3f5f\", \"arrowhead\": 0, \"arrowwidth\": 1}, \"colorscale\": {\"diverging\": [[0, \"#8e0152\"], [0.1, \"#c51b7d\"], [0.2, \"#de77ae\"], [0.3, \"#f1b6da\"], [0.4, \"#fde0ef\"], [0.5, \"#f7f7f7\"], [0.6, \"#e6f5d0\"], [0.7, \"#b8e186\"], [0.8, \"#7fbc41\"], [0.9, \"#4d9221\"], [1, \"#276419\"]], \"sequential\": [[0.0, \"#0d0887\"], [0.1111111111111111, \"#46039f\"], [0.2222222222222222, \"#7201a8\"], [0.3333333333333333, \"#9c179e\"], [0.4444444444444444, \"#bd3786\"], [0.5555555555555556, \"#d8576b\"], [0.6666666666666666, \"#ed7953\"], [0.7777777777777778, \"#fb9f3a\"], [0.8888888888888888, \"#fdca26\"], [1.0, \"#f0f921\"]], \"sequentialminus\": [[0.0, \"#0d0887\"], [0.1111111111111111, \"#46039f\"], [0.2222222222222222, \"#7201a8\"], [0.3333333333333333, \"#9c179e\"], [0.4444444444444444, \"#bd3786\"], [0.5555555555555556, \"#d8576b\"], [0.6666666666666666, \"#ed7953\"], [0.7777777777777778, \"#fb9f3a\"], [0.8888888888888888, \"#fdca26\"], [1.0, \"#f0f921\"]]}, \"colorway\": [\"#636efa\", \"#EF553B\", \"#00cc96\", \"#ab63fa\", \"#FFA15A\", \"#19d3f3\", \"#FF6692\", \"#B6E880\", \"#FF97FF\", \"#FECB52\"], \"font\": {\"color\": \"#2a3f5f\"}, \"geo\": {\"bgcolor\": \"white\", \"lakecolor\": \"white\", \"landcolor\": \"#E5ECF6\", \"showlakes\": true, \"showland\": true, \"subunitcolor\": \"white\"}, \"hoverlabel\": {\"align\": \"left\"}, \"hovermode\": \"closest\", \"mapbox\": {\"style\": \"light\"}, \"paper_bgcolor\": \"white\", \"plot_bgcolor\": \"#E5ECF6\", \"polar\": {\"angularaxis\": {\"gridcolor\": \"white\", \"linecolor\": \"white\", \"ticks\": \"\"}, \"bgcolor\": \"#E5ECF6\", \"radialaxis\": {\"gridcolor\": \"white\", \"linecolor\": \"white\", \"ticks\": \"\"}}, \"scene\": {\"xaxis\": {\"backgroundcolor\": \"#E5ECF6\", \"gridcolor\": \"white\", \"gridwidth\": 2, \"linecolor\": \"white\", \"showbackground\": true, \"ticks\": \"\", \"zerolinecolor\": \"white\"}, \"yaxis\": {\"backgroundcolor\": \"#E5ECF6\", \"gridcolor\": \"white\", \"gridwidth\": 2, \"linecolor\": \"white\", \"showbackground\": true, \"ticks\": \"\", \"zerolinecolor\": \"white\"}, \"zaxis\": {\"backgroundcolor\": \"#E5ECF6\", \"gridcolor\": \"white\", \"gridwidth\": 2, \"linecolor\": \"white\", \"showbackground\": true, \"ticks\": \"\", \"zerolinecolor\": \"white\"}}, \"shapedefaults\": {\"line\": {\"color\": \"#2a3f5f\"}}, \"ternary\": {\"aaxis\": {\"gridcolor\": \"white\", \"linecolor\": \"white\", \"ticks\": \"\"}, \"baxis\": {\"gridcolor\": \"white\", \"linecolor\": \"white\", \"ticks\": \"\"}, \"bgcolor\": \"#E5ECF6\", \"caxis\": {\"gridcolor\": \"white\", \"linecolor\": \"white\", \"ticks\": \"\"}}, \"title\": {\"x\": 0.05}, \"xaxis\": {\"automargin\": true, \"gridcolor\": \"white\", \"linecolor\": \"white\", \"ticks\": \"\", \"zerolinecolor\": \"white\", \"zerolinewidth\": 2}, \"yaxis\": {\"automargin\": true, \"gridcolor\": \"white\", \"linecolor\": \"white\", \"ticks\": \"\", \"zerolinecolor\": \"white\", \"zerolinewidth\": 2}}}, \"title\": {\"text\": \"Life expectancy vs. GDP per capita\"}, \"xaxis\": {\"anchor\": \"y\", \"domain\": [0.0, 0.98], \"title\": {\"text\": \"Life expectancy\"}}, \"yaxis\": {\"anchor\": \"x\", \"domain\": [0.0, 1.0], \"title\": {\"text\": \"GDP per capita\"}}},\n",
       "                        {\"responsive\": true}\n",
       "                    ).then(function(){\n",
       "                            \n",
       "var gd = document.getElementById('77edd859-fc3f-4b10-a670-fc2897a2eba2');\n",
       "var x = new MutationObserver(function (mutations, observer) {{\n",
       "        var display = window.getComputedStyle(gd).display;\n",
       "        if (!display || display === 'none') {{\n",
       "            console.log([gd, 'removed!']);\n",
       "            Plotly.purge(gd);\n",
       "            observer.disconnect();\n",
       "        }}\n",
       "}});\n",
       "\n",
       "// Listen for the removal of the full notebook cells\n",
       "var notebookContainer = gd.closest('#notebook-container');\n",
       "if (notebookContainer) {{\n",
       "    x.observe(notebookContainer, {childList: true});\n",
       "}}\n",
       "\n",
       "// Listen for the clearing of the current output cell\n",
       "var outputEl = gd.closest('.output');\n",
       "if (outputEl) {{\n",
       "    x.observe(outputEl, {childList: true});\n",
       "}}\n",
       "\n",
       "                        })\n",
       "                };\n",
       "                });\n",
       "            </script>\n",
       "        </div>"
      ]
     },
     "metadata": {},
     "output_type": "display_data"
    }
   ],
   "source": [
    "fig = px.scatter(wb, x=\"lifeExp\", y=\"gdpPerCap\", color=\"continent\", hover_name='country', labels={'continent': 'Continent', 'gdpPerCap': 'GDP per capita', 'lifeExp': 'Life expectancy'}, title='Life expectancy vs. GDP per capita')\n",
    "fig.show()"
   ]
  },
  {
   "cell_type": "code",
   "execution_count": null,
   "metadata": {},
   "outputs": [],
   "source": []
  },
  {
   "cell_type": "code",
   "execution_count": null,
   "metadata": {},
   "outputs": [],
   "source": []
  }
 ],
 "metadata": {
  "kernelspec": {
   "display_name": "Python 3",
   "language": "python",
   "name": "python3"
  },
  "language_info": {
   "codemirror_mode": {
    "name": "ipython",
    "version": 3
   },
   "file_extension": ".py",
   "mimetype": "text/x-python",
   "name": "python",
   "nbconvert_exporter": "python",
   "pygments_lexer": "ipython3",
   "version": "3.7.3"
  }
 },
 "nbformat": 4,
 "nbformat_minor": 2
}
